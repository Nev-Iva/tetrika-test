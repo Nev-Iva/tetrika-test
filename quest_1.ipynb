{
 "cells": [
  {
   "cell_type": "markdown",
   "metadata": {},
   "source": [
    "### Задание 1: Имена\n",
    "Исходные данные\n",
    "names.txt\n",
    "В текстовом файле содержится набор имён.\n",
    "#### Задача\n",
    "Нужно выполнить следующие действия и вывести результат вычислений:\n",
    "1.\tОтсортировать все имена в лексикографическом порядке.\n",
    "2.\tПосчитать для каждого имени алфавитную сумму – сумму порядковых номеров букв (MAY: 13 + 1 + 25 = 39).\n",
    "3.\tУмножить алфавитную сумму каждого имени на порядковый номер имени в отсортированном списке (индексация начинается с 1). Например, если MAY находится на 63 месте в списке, то результат для него будет 63 * 39 = 2457.\n",
    "4.\tСложить произведения из п. 3 для всех имен из файла и получить число.\n",
    "5.\tВывести полученную сумму."
   ]
  },
  {
   "cell_type": "code",
   "execution_count": 52,
   "metadata": {},
   "outputs": [],
   "source": [
    "import pandas as pd\n",
    "from string import ascii_uppercase"
   ]
  },
  {
   "cell_type": "code",
   "execution_count": 53,
   "metadata": {},
   "outputs": [],
   "source": [
    "names_list = []\n",
    "f = open('files/names.txt')\n",
    "for line in f:\n",
    "    names_list = line.split(',')"
   ]
  },
  {
   "cell_type": "code",
   "execution_count": 54,
   "metadata": {},
   "outputs": [],
   "source": [
    "names_list_correct = []\n",
    "\n",
    "for el in names_list:\n",
    "    new_el = el[1 : -1]\n",
    "    names_list_correct.append(new_el)"
   ]
  },
  {
   "cell_type": "code",
   "execution_count": 55,
   "metadata": {},
   "outputs": [],
   "source": [
    "names_list_alph = sorted(names_list_correct)\n",
    "index_num = [i + 1 for i in range(len(names_list_alph))]"
   ]
  },
  {
   "cell_type": "code",
   "execution_count": 56,
   "metadata": {},
   "outputs": [
    {
     "name": "stdout",
     "output_type": "stream",
     "text": [
      "      index_num    names\n",
      "0             1    AARON\n",
      "1             2    ABBEY\n",
      "2             3    ABBIE\n",
      "3             4     ABBY\n",
      "4             5    ABDUL\n",
      "...         ...      ...\n",
      "5160       5161     ZORA\n",
      "5161       5162  ZORAIDA\n",
      "5162       5163     ZULA\n",
      "5163       5164   ZULEMA\n",
      "5164       5165    ZULMA\n",
      "\n",
      "[5165 rows x 2 columns]\n"
     ]
    }
   ],
   "source": [
    "names_df = pd.DataFrame({'index_num': index_num, 'names': names_list_alph})\n",
    "print(names_df)"
   ]
  },
  {
   "cell_type": "code",
   "execution_count": 57,
   "metadata": {},
   "outputs": [],
   "source": [
    "alph_list = list(ascii_uppercase)\n",
    "list_sum = []\n",
    "\n",
    "for el in names_list_alph:\n",
    "    sum_index = 0\n",
    "    for elem in el:\n",
    "        index_letter = alph_list.index(elem) + 1\n",
    "        sum_index += index_letter\n",
    "    list_sum.append(sum_index)  "
   ]
  },
  {
   "cell_type": "code",
   "execution_count": 58,
   "metadata": {},
   "outputs": [],
   "source": [
    "names_df['index_sum'] = list_sum"
   ]
  },
  {
   "cell_type": "code",
   "execution_count": 59,
   "metadata": {},
   "outputs": [
    {
     "data": {
      "text/html": [
       "<div>\n",
       "<style scoped>\n",
       "    .dataframe tbody tr th:only-of-type {\n",
       "        vertical-align: middle;\n",
       "    }\n",
       "\n",
       "    .dataframe tbody tr th {\n",
       "        vertical-align: top;\n",
       "    }\n",
       "\n",
       "    .dataframe thead th {\n",
       "        text-align: right;\n",
       "    }\n",
       "</style>\n",
       "<table border=\"1\" class=\"dataframe\">\n",
       "  <thead>\n",
       "    <tr style=\"text-align: right;\">\n",
       "      <th></th>\n",
       "      <th>index_num</th>\n",
       "      <th>names</th>\n",
       "      <th>index_sum</th>\n",
       "    </tr>\n",
       "  </thead>\n",
       "  <tbody>\n",
       "    <tr>\n",
       "      <th>0</th>\n",
       "      <td>1</td>\n",
       "      <td>AARON</td>\n",
       "      <td>49</td>\n",
       "    </tr>\n",
       "    <tr>\n",
       "      <th>1</th>\n",
       "      <td>2</td>\n",
       "      <td>ABBEY</td>\n",
       "      <td>35</td>\n",
       "    </tr>\n",
       "    <tr>\n",
       "      <th>2</th>\n",
       "      <td>3</td>\n",
       "      <td>ABBIE</td>\n",
       "      <td>19</td>\n",
       "    </tr>\n",
       "    <tr>\n",
       "      <th>3</th>\n",
       "      <td>4</td>\n",
       "      <td>ABBY</td>\n",
       "      <td>30</td>\n",
       "    </tr>\n",
       "    <tr>\n",
       "      <th>4</th>\n",
       "      <td>5</td>\n",
       "      <td>ABDUL</td>\n",
       "      <td>40</td>\n",
       "    </tr>\n",
       "    <tr>\n",
       "      <th>...</th>\n",
       "      <td>...</td>\n",
       "      <td>...</td>\n",
       "      <td>...</td>\n",
       "    </tr>\n",
       "    <tr>\n",
       "      <th>5160</th>\n",
       "      <td>5161</td>\n",
       "      <td>ZORA</td>\n",
       "      <td>60</td>\n",
       "    </tr>\n",
       "    <tr>\n",
       "      <th>5161</th>\n",
       "      <td>5162</td>\n",
       "      <td>ZORAIDA</td>\n",
       "      <td>74</td>\n",
       "    </tr>\n",
       "    <tr>\n",
       "      <th>5162</th>\n",
       "      <td>5163</td>\n",
       "      <td>ZULA</td>\n",
       "      <td>60</td>\n",
       "    </tr>\n",
       "    <tr>\n",
       "      <th>5163</th>\n",
       "      <td>5164</td>\n",
       "      <td>ZULEMA</td>\n",
       "      <td>78</td>\n",
       "    </tr>\n",
       "    <tr>\n",
       "      <th>5164</th>\n",
       "      <td>5165</td>\n",
       "      <td>ZULMA</td>\n",
       "      <td>73</td>\n",
       "    </tr>\n",
       "  </tbody>\n",
       "</table>\n",
       "<p>5165 rows × 3 columns</p>\n",
       "</div>"
      ],
      "text/plain": [
       "      index_num    names  index_sum\n",
       "0             1    AARON         49\n",
       "1             2    ABBEY         35\n",
       "2             3    ABBIE         19\n",
       "3             4     ABBY         30\n",
       "4             5    ABDUL         40\n",
       "...         ...      ...        ...\n",
       "5160       5161     ZORA         60\n",
       "5161       5162  ZORAIDA         74\n",
       "5162       5163     ZULA         60\n",
       "5163       5164   ZULEMA         78\n",
       "5164       5165    ZULMA         73\n",
       "\n",
       "[5165 rows x 3 columns]"
      ]
     },
     "execution_count": 59,
     "metadata": {},
     "output_type": "execute_result"
    }
   ],
   "source": [
    "names_df"
   ]
  },
  {
   "cell_type": "code",
   "execution_count": 60,
   "metadata": {},
   "outputs": [
    {
     "data": {
      "text/html": [
       "<div>\n",
       "<style scoped>\n",
       "    .dataframe tbody tr th:only-of-type {\n",
       "        vertical-align: middle;\n",
       "    }\n",
       "\n",
       "    .dataframe tbody tr th {\n",
       "        vertical-align: top;\n",
       "    }\n",
       "\n",
       "    .dataframe thead th {\n",
       "        text-align: right;\n",
       "    }\n",
       "</style>\n",
       "<table border=\"1\" class=\"dataframe\">\n",
       "  <thead>\n",
       "    <tr style=\"text-align: right;\">\n",
       "      <th></th>\n",
       "      <th>index_num</th>\n",
       "      <th>names</th>\n",
       "      <th>index_sum</th>\n",
       "      <th>index_X_sum</th>\n",
       "    </tr>\n",
       "  </thead>\n",
       "  <tbody>\n",
       "    <tr>\n",
       "      <th>0</th>\n",
       "      <td>1</td>\n",
       "      <td>AARON</td>\n",
       "      <td>49</td>\n",
       "      <td>49</td>\n",
       "    </tr>\n",
       "    <tr>\n",
       "      <th>1</th>\n",
       "      <td>2</td>\n",
       "      <td>ABBEY</td>\n",
       "      <td>35</td>\n",
       "      <td>70</td>\n",
       "    </tr>\n",
       "    <tr>\n",
       "      <th>2</th>\n",
       "      <td>3</td>\n",
       "      <td>ABBIE</td>\n",
       "      <td>19</td>\n",
       "      <td>57</td>\n",
       "    </tr>\n",
       "    <tr>\n",
       "      <th>3</th>\n",
       "      <td>4</td>\n",
       "      <td>ABBY</td>\n",
       "      <td>30</td>\n",
       "      <td>120</td>\n",
       "    </tr>\n",
       "    <tr>\n",
       "      <th>4</th>\n",
       "      <td>5</td>\n",
       "      <td>ABDUL</td>\n",
       "      <td>40</td>\n",
       "      <td>200</td>\n",
       "    </tr>\n",
       "    <tr>\n",
       "      <th>...</th>\n",
       "      <td>...</td>\n",
       "      <td>...</td>\n",
       "      <td>...</td>\n",
       "      <td>...</td>\n",
       "    </tr>\n",
       "    <tr>\n",
       "      <th>5160</th>\n",
       "      <td>5161</td>\n",
       "      <td>ZORA</td>\n",
       "      <td>60</td>\n",
       "      <td>309660</td>\n",
       "    </tr>\n",
       "    <tr>\n",
       "      <th>5161</th>\n",
       "      <td>5162</td>\n",
       "      <td>ZORAIDA</td>\n",
       "      <td>74</td>\n",
       "      <td>381988</td>\n",
       "    </tr>\n",
       "    <tr>\n",
       "      <th>5162</th>\n",
       "      <td>5163</td>\n",
       "      <td>ZULA</td>\n",
       "      <td>60</td>\n",
       "      <td>309780</td>\n",
       "    </tr>\n",
       "    <tr>\n",
       "      <th>5163</th>\n",
       "      <td>5164</td>\n",
       "      <td>ZULEMA</td>\n",
       "      <td>78</td>\n",
       "      <td>402792</td>\n",
       "    </tr>\n",
       "    <tr>\n",
       "      <th>5164</th>\n",
       "      <td>5165</td>\n",
       "      <td>ZULMA</td>\n",
       "      <td>73</td>\n",
       "      <td>377045</td>\n",
       "    </tr>\n",
       "  </tbody>\n",
       "</table>\n",
       "<p>5165 rows × 4 columns</p>\n",
       "</div>"
      ],
      "text/plain": [
       "      index_num    names  index_sum  index_X_sum\n",
       "0             1    AARON         49           49\n",
       "1             2    ABBEY         35           70\n",
       "2             3    ABBIE         19           57\n",
       "3             4     ABBY         30          120\n",
       "4             5    ABDUL         40          200\n",
       "...         ...      ...        ...          ...\n",
       "5160       5161     ZORA         60       309660\n",
       "5161       5162  ZORAIDA         74       381988\n",
       "5162       5163     ZULA         60       309780\n",
       "5163       5164   ZULEMA         78       402792\n",
       "5164       5165    ZULMA         73       377045\n",
       "\n",
       "[5165 rows x 4 columns]"
      ]
     },
     "execution_count": 60,
     "metadata": {},
     "output_type": "execute_result"
    }
   ],
   "source": [
    "names_df['index_X_sum'] = names_df['index_num'] * names_df['index_sum']\n",
    "names_df"
   ]
  },
  {
   "cell_type": "code",
   "execution_count": 61,
   "metadata": {},
   "outputs": [
    {
     "data": {
      "text/plain": [
       "871853874"
      ]
     },
     "execution_count": 61,
     "metadata": {},
     "output_type": "execute_result"
    }
   ],
   "source": [
    "total_sum = names_df['index_X_sum'].sum()\n",
    "total_sum"
   ]
  }
 ],
 "metadata": {
  "kernelspec": {
   "display_name": "Python 3",
   "language": "python",
   "name": "python3"
  },
  "language_info": {
   "codemirror_mode": {
    "name": "ipython",
    "version": 3
   },
   "file_extension": ".py",
   "mimetype": "text/x-python",
   "name": "python",
   "nbconvert_exporter": "python",
   "pygments_lexer": "ipython3",
   "version": "3.7.6"
  }
 },
 "nbformat": 4,
 "nbformat_minor": 4
}
