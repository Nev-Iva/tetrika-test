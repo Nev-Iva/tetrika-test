{
 "cells": [
  {
   "cell_type": "code",
   "execution_count": 4,
   "metadata": {},
   "outputs": [],
   "source": [
    "import csv"
   ]
  },
  {
   "cell_type": "markdown",
   "metadata": {},
   "source": [
    "#### Функции, преобразующие файлы из txt в csv для более удобного экспорта и последующего чтения в SQL.  \n",
    "Для lessons.txt отдельная функция, так как в последнем столбце два значения дата и время.\n",
    "Так же добавлен номер записи для того, чтобы было проще работать с повторяющимися значениями."
   ]
  },
  {
   "cell_type": "code",
   "execution_count": 74,
   "metadata": {},
   "outputs": [],
   "source": [
    "def txt_to_csv (filename):\n",
    "    list_db = []    \n",
    "    not_good_str = ''     \n",
    "    f = open('files/{0}.txt'.format(filename))\n",
    "    for line in f:\n",
    "        list_db.append(line.splitlines())\n",
    "    for el in list_db:\n",
    "        for elem in el:\n",
    "            elem_rep = elem.replace(' ', '')\n",
    "            del el[0];\n",
    "            el.append(elem_rep)\n",
    "            \n",
    "    del list_db[:2];\n",
    "    del list_db[-1];\n",
    "    del list_db[-1];\n",
    "    for i in range(len(list_db)):\n",
    "        list_db[i][0] = '{}|'.format(i + 1) + list_db[i][0]       \n",
    "                          \n",
    "    with open('C:/ProgramData/MySQL/MySQL Server 8.0/Uploads/{0}.csv'.format(filename), \"w\", newline='') as file:\n",
    "        writer = csv.writer(file)\n",
    "        writer.writerows(list_db)   "
   ]
  },
  {
   "cell_type": "code",
   "execution_count": 76,
   "metadata": {},
   "outputs": [],
   "source": [
    "def txt_to_csv_lessons (filename):\n",
    "    list_db = []\n",
    "    not_good_str = ''\n",
    "    f = open('files/{0}.txt'.format(filename))\n",
    "    for line in f:\n",
    "        list_db.append(line.splitlines())\n",
    "    for el in list_db:\n",
    "        for elem in el:\n",
    "            count = elem.count(' ') - 1\n",
    "            elem_rep = elem.replace(' ', '', count)\n",
    "            del el[0];\n",
    "            el.append(elem_rep)\n",
    "    del list_db[:2];\n",
    "    del list_db[-1];\n",
    "    del list_db[-1];\n",
    "    for i in range(len(list_db)):\n",
    "        list_db[i][0] = '{}|'.format(i + 1) + list_db[i][0] \n",
    "        \n",
    "    with open('C:/ProgramData/MySQL/MySQL Server 8.0/Uploads/{0}.csv'.format(filename), \"w\", newline='') as file:\n",
    "        writer = csv.writer(file)\n",
    "        writer.writerows(list_db)"
   ]
  },
  {
   "cell_type": "code",
   "execution_count": 75,
   "metadata": {},
   "outputs": [],
   "source": [
    "txt_to_csv('users')"
   ]
  },
  {
   "cell_type": "code",
   "execution_count": 77,
   "metadata": {},
   "outputs": [],
   "source": [
    "txt_to_csv_lessons('lessons')"
   ]
  },
  {
   "cell_type": "code",
   "execution_count": 78,
   "metadata": {},
   "outputs": [],
   "source": [
    "txt_to_csv('participants')"
   ]
  },
  {
   "cell_type": "code",
   "execution_count": 79,
   "metadata": {},
   "outputs": [],
   "source": [
    "txt_to_csv('quality')"
   ]
  }
 ],
 "metadata": {
  "kernelspec": {
   "display_name": "Python 3",
   "language": "python",
   "name": "python3"
  },
  "language_info": {
   "codemirror_mode": {
    "name": "ipython",
    "version": 3
   },
   "file_extension": ".py",
   "mimetype": "text/x-python",
   "name": "python",
   "nbconvert_exporter": "python",
   "pygments_lexer": "ipython3",
   "version": "3.7.6"
  }
 },
 "nbformat": 4,
 "nbformat_minor": 4
}
